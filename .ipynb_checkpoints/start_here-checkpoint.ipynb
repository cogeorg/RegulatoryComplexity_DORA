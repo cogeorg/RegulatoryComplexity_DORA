{
 "cells": [
  {
   "cell_type": "code",
   "execution_count": 2,
   "id": "8da462f0",
   "metadata": {},
   "outputs": [
    {
     "name": "stdout",
     "output_type": "stream",
     "text": [
      "file_name;Operands;UniqueOperands;Operators;UniqueOperators;Other;UniqueOther;Unclassified;UniqueUnclassified;WordCount\n",
      "\n",
      "../010_raw_documents/DORA_EP_PA-2022.txt;18582;1340;8342;453;17484;216;72;17;44352\n",
      "\n",
      "file_name;Operands;UniqueOperands;Operators;UniqueOperators;Other;UniqueOther;Unclassified;UniqueUnclassified;WordCount\n",
      "\n",
      "../010_raw_documents/DORA_FinReg-2022.txt;19588;1344;8577;454;18539;213;60;15;45888\n",
      "\n",
      "file_name;Operands;UniqueOperands;Operators;UniqueOperators;Other;UniqueOther;Unclassified;UniqueUnclassified;WordCount\n",
      "\n",
      "../010_raw_documents/DORA_FinReg-2022--0.txt;6764;998;2768;357;6108;175;19;10;15682\n",
      "\n",
      "file_name;Operands;UniqueOperands;Operators;UniqueOperators;Other;UniqueOther;Unclassified;UniqueUnclassified;WordCount\n",
      "\n",
      "../010_raw_documents/DORA_FinReg-2022--1.txt;1433;385;582;94;1208;118;2;2;3227\n",
      "\n",
      "file_name;Operands;UniqueOperands;Operators;UniqueOperators;Other;UniqueOther;Unclassified;UniqueUnclassified;WordCount\n",
      "\n",
      "../010_raw_documents/DORA_FinReg-2022--2.txt;2475;475;1209;171;2003;116;17;6;5591\n",
      "\n",
      "file_name;Operands;UniqueOperands;Operators;UniqueOperators;Other;UniqueOther;Unclassified;UniqueUnclassified;WordCount\n",
      "\n",
      "../010_raw_documents/DORA_FinReg-2022--3.txt;1185;323;573;116;1174;101;2;1;2833\n",
      "\n",
      "file_name;Operands;UniqueOperands;Operators;UniqueOperators;Other;UniqueOther;Unclassified;UniqueUnclassified;WordCount\n",
      "\n",
      "../010_raw_documents/DORA_FinReg-2022--4.txt;794;278;428;111;828;96;4;3;1976\n",
      "\n",
      "file_name;Operands;UniqueOperands;Operators;UniqueOperators;Other;UniqueOther;Unclassified;UniqueUnclassified;WordCount\n",
      "\n",
      "../010_raw_documents/DORA_FinReg-2022--5.txt;4557;650;1813;226;4626;152;10;6;10664\n",
      "\n",
      "file_name;Operands;UniqueOperands;Operators;UniqueOperators;Other;UniqueOther;Unclassified;UniqueUnclassified;WordCount\n",
      "\n",
      "../010_raw_documents/DORA_FinReg-2022--6.txt;111;73;44;25;93;36;1;1;243\n",
      "\n",
      "file_name;Operands;UniqueOperands;Operators;UniqueOperators;Other;UniqueOther;Unclassified;UniqueUnclassified;WordCount\n",
      "\n",
      "../010_raw_documents/DORA_FinReg-2022--7.txt;1152;337;564;113;1212;110;5;3;2754\n",
      "\n",
      "file_name;Operands;UniqueOperands;Operators;UniqueOperators;Other;UniqueOther;Unclassified;UniqueUnclassified;WordCount\n",
      "\n",
      "../010_raw_documents/DORA_FinReg-2022--8.txt;127;53;65;26;182;46;0;0;365\n",
      "\n",
      "file_name;Operands;UniqueOperands;Operators;UniqueOperators;Other;UniqueOther;Unclassified;UniqueUnclassified;WordCount\n",
      "\n",
      "../010_raw_documents/DORA_FinReg-2022--9.txt;980;240;531;92;1090;93;0;0;2519\n",
      "\n",
      "file_name;Operands;UniqueOperands;Operators;UniqueOperators;Other;UniqueOther;Unclassified;UniqueUnclassified;WordCount\n",
      "\n",
      "../010_raw_documents/DORA_Initial-2020.txt;19503;1469;9291;462;16588;228;66;13;41203\n",
      "\n",
      "file_name;Operands;UniqueOperands;Operators;UniqueOperators;Other;UniqueOther;Unclassified;UniqueUnclassified;WordCount\n",
      "\n",
      "../010_raw_documents/DORA_Initial-2020_IA.txt;21040;1498;10390;530;19233;232;94;18;49871\n",
      "\n",
      "file_name;Operands;UniqueOperands;Operators;UniqueOperators;Other;UniqueOther;Unclassified;UniqueUnclassified;WordCount\n",
      "\n",
      "../010_raw_documents/DORA1.txt;13970;1048;7184;329;20412;215;60;15;47215\n",
      "\n"
     ]
    }
   ],
   "source": [
    "import numpy as np\n",
    "\n",
    "input_file = open(\"200_analysis/results/results.csv\", encoding='utf-8')\n",
    "for line in input_file.readlines():\n",
    "    if \"file_name;Operands\" not in line:\n",
    "        print(line)\n",
    "input_file.close()"
   ]
  },
  {
   "cell_type": "code",
   "execution_count": null,
   "id": "cc795958",
   "metadata": {},
   "outputs": [],
   "source": []
  }
 ],
 "metadata": {
  "kernelspec": {
   "display_name": "Python 3 (ipykernel)",
   "language": "python",
   "name": "python3"
  },
  "language_info": {
   "codemirror_mode": {
    "name": "ipython",
    "version": 3
   },
   "file_extension": ".py",
   "mimetype": "text/x-python",
   "name": "python",
   "nbconvert_exporter": "python",
   "pygments_lexer": "ipython3",
   "version": "3.9.13"
  }
 },
 "nbformat": 4,
 "nbformat_minor": 5
}
