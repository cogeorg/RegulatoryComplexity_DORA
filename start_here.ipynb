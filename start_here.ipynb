{
 "cells": [
  {
   "cell_type": "code",
   "execution_count": 14,
   "id": "cbd56ad8",
   "metadata": {},
   "outputs": [
    {
     "name": "stdout",
     "output_type": "stream",
     "text": [
      "<class 'pandas.core.frame.DataFrame'>\n",
      "RangeIndex: 15 entries, 0 to 14\n",
      "Data columns (total 10 columns):\n",
      " #   Column              Non-Null Count  Dtype \n",
      "---  ------              --------------  ----- \n",
      " 0   file_name           15 non-null     object\n",
      " 1   Operands            15 non-null     int64 \n",
      " 2   UniqueOperands      15 non-null     int64 \n",
      " 3   Operators           15 non-null     int64 \n",
      " 4   UniqueOperators     15 non-null     int64 \n",
      " 5   Other               15 non-null     int64 \n",
      " 6   UniqueOther         15 non-null     int64 \n",
      " 7   Unclassified        15 non-null     int64 \n",
      " 8   UniqueUnclassified  15 non-null     int64 \n",
      " 9   WordCount           15 non-null     int64 \n",
      "dtypes: int64(9), object(1)\n",
      "memory usage: 1.3+ KB\n",
      "None\n"
     ]
    }
   ],
   "source": [
    "import pandas as pd\n",
    "df = pd.read_csv('200_analysis/results/results.csv', sep=\";\")\n",
    "# print(df.to_string()) \n",
    "# print(df.head(4))\n",
    "print(df.info()) "
   ]
  },
  {
   "cell_type": "code",
   "execution_count": 22,
   "id": "6a2b48f4",
   "metadata": {},
   "outputs": [],
   "source": [
    "df['TotalVolume'] = df.Operands + df.Operators\n",
    "df['PotentialVolume'] = 2 + df.UniqueOperands\n",
    "df['Level'] = 100*df.PotentialVolume / df.TotalVolume"
   ]
  },
  {
   "cell_type": "code",
   "execution_count": 23,
   "id": "4745dd02",
   "metadata": {},
   "outputs": [
    {
     "name": "stdout",
     "output_type": "stream",
     "text": [
      "0      4.984401\n",
      "1      4.778981\n",
      "2     10.490978\n",
      "3     19.205955\n",
      "4     12.947883\n",
      "5     18.486917\n",
      "6     22.913257\n",
      "7     10.235479\n",
      "8     48.387097\n",
      "9     19.755245\n",
      "10    28.645833\n",
      "11    16.015884\n",
      "12     5.108703\n",
      "13     4.772510\n",
      "14     4.963600\n",
      "Name: Level, dtype: float64\n"
     ]
    }
   ],
   "source": [
    "print(df['Level'])"
   ]
  },
  {
   "cell_type": "code",
   "execution_count": null,
   "id": "1a3b59b7",
   "metadata": {},
   "outputs": [],
   "source": []
  }
 ],
 "metadata": {
  "kernelspec": {
   "display_name": "Python 3 (ipykernel)",
   "language": "python",
   "name": "python3"
  },
  "language_info": {
   "codemirror_mode": {
    "name": "ipython",
    "version": 3
   },
   "file_extension": ".py",
   "mimetype": "text/x-python",
   "name": "python",
   "nbconvert_exporter": "python",
   "pygments_lexer": "ipython3",
   "version": "3.9.13"
  }
 },
 "nbformat": 4,
 "nbformat_minor": 5
}
